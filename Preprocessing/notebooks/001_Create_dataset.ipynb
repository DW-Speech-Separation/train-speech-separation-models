{
  "nbformat": 4,
  "nbformat_minor": 0,
  "metadata": {
    "colab": {
      "name": "001. Create-dataset.ipynb",
      "provenance": [],
      "collapsed_sections": [
        "NHDcMTIZQRrc"
      ],
      "toc_visible": true,
      "machine_shape": "hm"
    },
    "kernelspec": {
      "display_name": "Python 3",
      "name": "python3"
    },
    "language_info": {
      "name": "python"
    },
    "accelerator": "GPU"
  },
  "cells": [
    {
      "cell_type": "code",
      "metadata": {
        "colab": {
          "base_uri": "https://localhost:8080/"
        },
        "id": "u1wUTetg3kwe",
        "outputId": "c25eb7b5-8cf0-477c-cace-03177408a18f"
      },
      "source": [
        "%cd /content/drive/Shareddrives/TG-Separación-Fuentes/code/train-speech-separation-models"
      ],
      "execution_count": 19,
      "outputs": [
        {
          "output_type": "stream",
          "text": [
            "/content/drive/Shareddrives/TG-Separación-Fuentes/code/train-speech-separation-models\n"
          ],
          "name": "stdout"
        }
      ]
    },
    {
      "cell_type": "code",
      "metadata": {
        "id": "MwZpfLwr5DFJ"
      },
      "source": [
        "import librosa\n",
        "import pandas as pd\n",
        "import numpy as np\n",
        "import IPython.display as ipd\n",
        "import os\n",
        "from Preprocessing.lib import audio_preprocessing as prepro"
      ],
      "execution_count": 20,
      "outputs": []
    },
    {
      "cell_type": "code",
      "metadata": {
        "id": "FX_zlYSnpmvo"
      },
      "source": [
        "PATH_CallFriend =\"/content/drive/Shareddrives/TG-Separación-Fuentes/Datasets/CallFriend-Spanish\" \n",
        "PATH_WAV_MORE_3_Speakers_CallFriend = './Preprocessing/resources/3_more_speakers_Call_Friend.xlsx'\n",
        "ROOT_PATH = \"/content/drive/Shareddrives/TG-Separación-Fuentes/Datasets/01-Data_experimental/\"\n",
        "RAW = ROOT_PATH+\"raw/\"\n",
        "INTER = ROOT_PATH +\"intermediate/\" \n",
        "\n",
        "#CVS PATH\n",
        "ROOT_CSV  =\"/content/drive/Shareddrives/TG-Separación-Fuentes/code/train-speech-separation-models/train/resources/\"\n",
        "PATH_CSV_MIX = ROOT_CSV +\"mixture.csv\"\n",
        "PATH_CSV_TRAIN = ROOT_CSV + \"mixture_train_mix_clean.csv\"\n",
        "PATH_CSV_VALID = ROOT_CSV +\"mixture_val_mix_clean.csv\"\n",
        "PATH_CSV_TEST = ROOT_CSV + \"mixture_test_mix_clean.csv\"\n",
        "\n",
        "PATH_SEPFORMER_CSV_TRAIN = \"./resources/SEPFORMER_mixture_train_mix_clean.csv\"\n",
        "PATH_SEPFORMER_CSV_VALID =\"./resources/SEPFORMER_mixture_val_mix_clean.csv\"\n",
        "PATH_SEPFORMER_CSV_TEST = \"./resources/SEPFORMER_mixture_test_mix_clean.csv\"\n",
        "\n",
        "PATH_CONFIG = \"\"#\"./resources/conf-DPRNN.yml\"\n",
        "\n",
        "df_train = pd.read_csv(PATH_CSV_TRAIN)\n",
        "df_val = pd.read_csv(PATH_CSV_VALID)\n",
        "df_test = pd.read_csv(PATH_CSV_TEST)\n",
        "df_more_3_speakers_callfriend = pd.read_excel(PATH_WAV_MORE_3_Speakers_CallFriend)"
      ],
      "execution_count": 33,
      "outputs": []
    },
    {
      "cell_type": "markdown",
      "metadata": {
        "id": "NHDcMTIZQRrc"
      },
      "source": [
        "# Delete audios more 3 speakers"
      ]
    },
    {
      "cell_type": "code",
      "metadata": {
        "id": "KjPhXtloPECd"
      },
      "source": [
        "#more_3_speakers = list(map(lambda x: str(x)+\".wav\",list(df_more_3_speakers_callfriend.iloc[:,0].values)))"
      ],
      "execution_count": 38,
      "outputs": []
    },
    {
      "cell_type": "code",
      "metadata": {
        "colab": {
          "base_uri": "https://localhost:8080/"
        },
        "id": "Z4NgW1XAP6Af",
        "outputId": "cca3a104-58fc-449f-c689-0b59bb2ee195"
      },
      "source": [
        "#audios = os.listdir(PATH_CallFriend)\n",
        "#len(audios)"
      ],
      "execution_count": 41,
      "outputs": [
        {
          "output_type": "execute_result",
          "data": {
            "text/plain": [
              "83"
            ]
          },
          "metadata": {
            "tags": []
          },
          "execution_count": 41
        }
      ]
    },
    {
      "cell_type": "code",
      "metadata": {
        "colab": {
          "base_uri": "https://localhost:8080/",
          "height": 35
        },
        "id": "Y6nmiGBWKmj7",
        "outputId": "8230ae84-95b6-4e17-d97f-efcd060d46c3"
      },
      "source": [
        "\"\"\"\n",
        "audios = os.listdir(PATH_CallFriend)\n",
        "\n",
        "for a in audios:\n",
        "  if a in more_3_speakers:\n",
        "    os.remove(PATH_CallFriend+\"/\"+a)\n",
        "\"\"\""
      ],
      "execution_count": 42,
      "outputs": [
        {
          "output_type": "execute_result",
          "data": {
            "application/vnd.google.colaboratory.intrinsic+json": {
              "type": "string"
            },
            "text/plain": [
              "'\\naudios = os.listdir(PATH_CallFriend)\\n\\nfor a in audios:\\n  if a in more_3_speakers:\\n    os.remove(PATH_CallFriend+\"/\"+a)\\n'"
            ]
          },
          "metadata": {
            "tags": []
          },
          "execution_count": 42
        }
      ]
    },
    {
      "cell_type": "markdown",
      "metadata": {
        "id": "3aleZvV_pdbG"
      },
      "source": [
        "# 1.Create train - valid dataset"
      ]
    },
    {
      "cell_type": "code",
      "metadata": {
        "colab": {
          "base_uri": "https://localhost:8080/"
        },
        "id": "RgDHmAelPuqQ",
        "outputId": "97bd332f-205f-4b6f-e62b-3477ab715e23"
      },
      "source": [
        "AUDIOS = [\"0082.wav\",\"1555.wav\"]\n",
        "df_mix,df_train,df_valid = prepro.create_dataset(AUDIOS,RAW,INTER,PATH_CSV_MIX,\n",
        "                                                      PATH_CSV_TRAIN,\n",
        "                                                      PATH_CSV_VALID,n_samples=100)"
      ],
      "execution_count": null,
      "outputs": [
        {
          "output_type": "stream",
          "text": [
            "Directory  created successfully\n",
            "Creando CSV\n",
            "Concat CSV\n",
            "Save Mix\n",
            "Split train - valid dataset\n"
          ],
          "name": "stdout"
        }
      ]
    },
    {
      "cell_type": "code",
      "metadata": {
        "colab": {
          "base_uri": "https://localhost:8080/"
        },
        "id": "JWrs2Ay28q8e",
        "outputId": "9176aca9-80eb-4a97-97d8-a691e36bb59b"
      },
      "source": [
        "df_mix.shape,df_train.shape,df_valid.shape "
      ],
      "execution_count": null,
      "outputs": [
        {
          "output_type": "execute_result",
          "data": {
            "text/plain": [
              "((148, 5), (60, 5), (10, 5))"
            ]
          },
          "metadata": {
            "tags": []
          },
          "execution_count": 7
        }
      ]
    },
    {
      "cell_type": "markdown",
      "metadata": {
        "id": "Iy7rMBS0gR9C"
      },
      "source": [
        "# 2. Create test dataset"
      ]
    },
    {
      "cell_type": "code",
      "metadata": {
        "id": "vH6ap5Mnvv5N",
        "colab": {
          "base_uri": "https://localhost:8080/"
        },
        "outputId": "43ccee41-2313-49f7-c084-d4a3c1e95b8e"
      },
      "source": [
        "AUDIOS = [\"0096.wav\"]\n",
        "PATH_CSV_TEST_ = PATH_CSV_TEST\n",
        "df_mix_test = prepro.create_dataset(AUDIOS=AUDIOS,RAW = RAW,INTER = INTER,\n",
        "                                     PATH_CSV_MIX = PATH_CSV_TEST_,\n",
        "                                     n_samples=30,Train=False)\n"
      ],
      "execution_count": null,
      "outputs": [
        {
          "output_type": "stream",
          "text": [
            "Directory  created successfully\n",
            "Creando CSV\n",
            "Concat CSV\n",
            "Save Mix\n"
          ],
          "name": "stdout"
        }
      ]
    },
    {
      "cell_type": "markdown",
      "metadata": {
        "id": "BKG0V-FF_ZQ2"
      },
      "source": [
        "# 3. SepFormer"
      ]
    },
    {
      "cell_type": "code",
      "metadata": {
        "id": "eYo4T-W6_bdy"
      },
      "source": [
        "df = df_test\n",
        "ID = np.arange(df.shape[0])\n",
        "duration = df.length.values\n",
        "mix_wav = df.mixture_path.values\n",
        "mix_wav_format = [\"wav\"]* df.shape[0]\n",
        "mix_wav_opts = [None]* df.shape[0]\n",
        "s1_wav =  df.source_1_path.values\n",
        "s1_wav_format = [\"wav\"]* df.shape[0]\n",
        "s1_wav_opts =  [None] * df.shape[0]\n",
        "s2_wav = df.source_2_path.values\n",
        "s2_wav_format = [\"wav\"]* df.shape[0]\n",
        "s2_wav_opts = [None] * df.shape[0]\n",
        "noise_wav =  [None] * df.shape[0]\n",
        "noise_wav_format = [\"wav\"]* df.shape[0]\n",
        "noise_wav_opts =  [None]* df.shape[0]"
      ],
      "execution_count": null,
      "outputs": []
    },
    {
      "cell_type": "code",
      "metadata": {
        "id": "dBmSDe5t_dn1"
      },
      "source": [
        "d = {\n",
        "      \"ID\": ID,\n",
        "      \"duration\": duration,\n",
        "      \"mix_wav\": mix_wav,\n",
        "      \"mix_wav_format\": mix_wav_format,\n",
        "      \"mix_wav_opts\": mix_wav_opts,\n",
        "      \"s1_wav\": s1_wav,\n",
        "      \"s1_wav_format\": s1_wav_format,\n",
        "      \"s1_wav_opts\": s1_wav_opts,\n",
        "      \"s2_wav\": s2_wav,\n",
        "      \"s2_wav_format\": s2_wav_format,\n",
        "      \"s2_wav_opts\": s2_wav_opts,\n",
        "      \"noise_wav\": noise_wav,\n",
        "      \"noise_wav_format\": noise_wav_format,\n",
        "      \"noise_wav_opts\": noise_wav_opts,\n",
        "  }\n",
        "df = pd.DataFrame(data=d)"
      ],
      "execution_count": null,
      "outputs": []
    },
    {
      "cell_type": "code",
      "metadata": {
        "id": "mF1KABWM_gSN"
      },
      "source": [
        "df.to_csv(PATH_SEPFORMER_CSV_TEST,index=False)"
      ],
      "execution_count": null,
      "outputs": []
    }
  ]
}